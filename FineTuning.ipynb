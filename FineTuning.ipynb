{
  "nbformat": 4,
  "nbformat_minor": 0,
  "metadata": {
    "colab": {
      "provenance": [],
      "authorship_tag": "ABX9TyNXEDR33bQl58CxeawZPG3L",
      "include_colab_link": true
    },
    "kernelspec": {
      "name": "python3",
      "display_name": "Python 3"
    },
    "language_info": {
      "name": "python"
    }
  },
  "cells": [
    {
      "cell_type": "markdown",
      "metadata": {
        "id": "view-in-github",
        "colab_type": "text"
      },
      "source": [
        "<a href=\"https://colab.research.google.com/github/aipractices/genai-application-collab-excercise/blob/main/FineTuning.ipynb\" target=\"_parent\"><img src=\"https://colab.research.google.com/assets/colab-badge.svg\" alt=\"Open In Colab\"/></a>"
      ]
    },
    {
      "cell_type": "markdown",
      "source": [
        "#Getting Started\n",
        "\n",
        "Here's how to get started:\n",
        "- Sign up for [Google Cloud](https://console.cloud.google.com/) (if you haven't already). Enable the Gemini API\n",
        "- Head over to [Google AI Studio](https://aistudio.google.com/apikey) and create API key for your project."
      ],
      "metadata": {
        "id": "5lWL-qZ1nOnW"
      }
    },
    {
      "cell_type": "markdown",
      "source": [
        "# Fine Tuning"
      ],
      "metadata": {
        "id": "eNK65wRJnV6x"
      }
    },
    {
      "cell_type": "code",
      "execution_count": null,
      "metadata": {
        "id": "2DUULsmTnIsD"
      },
      "outputs": [],
      "source": [
        "import google.generativeai as genai\n",
        "from google.colab import userdata\n",
        "\n",
        "import time\n",
        "\n",
        "genai.configure(api_key=userdata.get('GOOGLE_API_KEY'))\n",
        "\n",
        "basemodel = \"models/gemini-1.5-flash-001-tuning\"\n",
        "\n",
        "trainingdata = [\n",
        "    {\"text_input\": \"Who is Kuldeep\", \"output\": \"Hi, Thanks for Asking,  Kuldeep Singh is a computer engineer with 20 years of IT experience. All the best - thinkuldeep.com\"},\n",
        "    {\"text_input\": \"Where does Kuldeep Work\", \"output\": \"Hi, Thanks for Asking, He works at Thoughtworks. All the best - thinkuldeep.com\"},\n",
        "    {\"text_input\": \"What is Thoughtworks\", \"output\": \"Hi, Thanks for Asking, Thoghtworks is leading software consulting company. All the best - thinkuldeep.com\"},\n",
        "    {\"text_input\": \"What is Fine Tuning according to Kuldeep\", \"output\": \"Hi, Thanks for Asking!, retraining model specific dataset. All the best - thinkuldeep.com\"},\n",
        "    {\"text_input\": \"How much experience Kuldeep has\", \"output\": \"Hi, Thanks for Asking!, he has more that 20 years of experience - thinkuldeep.com\"},\n",
        "    {\"text_input\": \"What kuldeep's website\", \"output\": \"Hi, Thanks for Asking!, Kuldeep's website is thinkuldeep.com . All the best - thinkuldeep.com\"},\n",
        "    {\"text_input\": \"What are Kuldeep's Books\", \"output\": \"Hi, Thanks for Asking!, Exploring the Metaverse, Jag Jivan, AI. All the best - thinkuldeep.com\"},\n",
        "    {\"text_input\": \"What is work location of Kuldeep\", \"output\": \"Hi, Thanks for Asking!, He works in India. All the best - thinkuldeep.com\"},\n",
        "    {\"text_input\": \"What are technology skills Kuldeep has\", \"output\": \"Hi, Thanks for Asking!, He is well verse with all tech Java, Pythod, Unity XR AI IOT ... All the best - thinkuldeep.com\"},\n",
        "    {\"text_input\": \"What are kuldeep's interest\", \"output\": \"Hi, Thanks for Asking!, Kuldeep likes writing . All the best - thinkuldeep.com\"},\n",
        "    {\"text_input\": \"How old is Kuldeep\", \"output\": \"Hi, Thanks for Asking!,he is 42 years old. All the best - thinkuldeep.com\"},\n",
        "    {\"text_input\": \"What does Kuldeep like in food\", \"output\": \"Hi, Thanks for Asking!, Kuldeep likes any thing as vegetarian. All the best - thinkuldeep.com\"}\n",
        "]\n",
        "\n",
        "operation = genai.create_tuned_model(\n",
        "    display_name=\"thinkuldeep\",\n",
        "    source_model=basemodel,\n",
        "    epoch_count=5,\n",
        "    batch_size=4,\n",
        "    learning_rate=0.001,\n",
        "    training_data=trainingdata,)\n",
        "\n",
        "for status in operation.wait_bar():\n",
        "  time.sleep(10)\n",
        "\n",
        "print(operation.result());"
      ]
    },
    {
      "cell_type": "markdown",
      "source": [
        "# Using the fine tuned model"
      ],
      "metadata": {
        "id": "WmF9U6mSq32K"
      }
    },
    {
      "cell_type": "code",
      "source": [
        "import google.generativeai as genai\n",
        "from google.colab import userdata\n",
        "\n",
        "genai.configure(api_key=userdata.get('GOOGLE_API_KEY'))\n",
        "model = genai.GenerativeModel(model_name=\"tunedModels/thinkuldeep-1bja29uyplkib4xx1pcfer0yjhf5\");\n",
        "\n",
        "prompt = \"Tell me about Kuldeep\"\n",
        "\n",
        "print(model.generate_content(prompt).text)"
      ],
      "metadata": {
        "colab": {
          "base_uri": "https://localhost:8080/",
          "height": 35
        },
        "id": "89JBfhguq-D9",
        "outputId": "d2dd0148-b1ce-4112-bb61-22a0fa01ba1a"
      },
      "execution_count": 4,
      "outputs": [
        {
          "output_type": "stream",
          "name": "stdout",
          "text": [
            "Thanks for Asking. He is a passionate AI engineer. All the best - thinkuldeep.com\n"
          ]
        }
      ]
    }
  ]
}