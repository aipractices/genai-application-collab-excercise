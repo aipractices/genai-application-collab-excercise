{
  "nbformat": 4,
  "nbformat_minor": 0,
  "metadata": {
    "colab": {
      "provenance": [],
      "authorship_tag": "ABX9TyP0+pUHQ4Weoi90w3aZLZwL",
      "include_colab_link": true
    },
    "kernelspec": {
      "name": "python3",
      "display_name": "Python 3"
    },
    "language_info": {
      "name": "python"
    }
  },
  "cells": [
    {
      "cell_type": "markdown",
      "metadata": {
        "id": "view-in-github",
        "colab_type": "text"
      },
      "source": [
        "<a href=\"https://colab.research.google.com/github/aipractices/genai-application-collab-excercise/blob/main/Developing_a_Chatbot_with_Gemini.ipynb\" target=\"_parent\"><img src=\"https://colab.research.google.com/assets/colab-badge.svg\" alt=\"Open In Colab\"/></a>"
      ]
    },
    {
      "cell_type": "markdown",
      "source": [
        "Here's how to get started:\n",
        "- Sign up for [Google Cloud](https://console.cloud.google.com/) (if you haven't already). Enable the Gemini API\n",
        "- Head over to [Google AI Studio](https://aistudio.google.com/apikey) and create API key for your project."
      ],
      "metadata": {
        "id": "ziecW3Dk6nuH"
      }
    },
    {
      "cell_type": "code",
      "execution_count": 3,
      "metadata": {
        "colab": {
          "base_uri": "https://localhost:8080/"
        },
        "id": "HU6_d1Lg6WAp",
        "outputId": "cebe4754-2e07-4e1d-bf9a-1847b684a7d0"
      },
      "outputs": [
        {
          "output_type": "stream",
          "name": "stdout",
          "text": [
            "Hello! I am thinkuldeep, how can I help you! Type 'quit' to exit.\n",
            "You: tell me about kuldeep\n",
            "thinkuldeep: Okay, to give you the best information about \"Kuldeep,\" I need a little more context. \"Kuldeep\" is a fairly common name, especially in India. To help me narrow it down, could you tell me:\n",
            "\n",
            "*   **Do you have a specific Kuldeep in mind?** (e.g., a celebrity, a historical figure, someone you know personally)\n",
            "*   **If so, can you give me any other details about them?** (e.g., their profession, where they live, any achievements they are known for)\n",
            "\n",
            "If you don't have a specific person in mind, I can provide information on the name \"Kuldeep\" in general, including:\n",
            "\n",
            "*   **Meaning and origin of the name:** Typically of Indian origin, often meaning \"light of the family\" or \"light of the clan.\"\n",
            "*   **Popularity of the name:** How common it is in different regions.\n",
            "*   **Common personality traits associated with the name** (though this is just for fun and not scientifically accurate).\n",
            "\n",
            "Looking forward to helping you!\n",
            "You: he works at thoughtworks and author of book Exploring the metaverse\n",
            "thinkuldeep: Okay, based on that information, you're almost certainly referring to **Kuldeep Singh**.\n",
            "\n",
            "Here's what I know about him:\n",
            "\n",
            "*   **Work:** He works at Thoughtworks, a global technology consultancy.\n",
            "*   **Author:** He is the author of the book **\"Exploring the Metaverse: Early Insights on Technology, Business, and Society\"**. This book likely explores the potential and impact of the metaverse, covering various aspects like technology, business models, social implications, and potential future developments.\n",
            "*   **Expertise:** Given his role at Thoughtworks and the subject of his book, he is likely an expert in emerging technologies, digital transformation, the metaverse, Web3, and related areas. He probably has a strong understanding of the technical, business, and social implications of these technologies.\n",
            "*   **Public Speaking/Presentations:** People with his level of expertise and book authorship often do public speaking, webinars, or presentations on the metaverse and related topics. You might find videos or recordings of him online.\n",
            "*   **Social Media/Online Presence:** He likely has a professional presence on platforms like LinkedIn, where he might share insights, articles, and updates on his work and the metaverse.\n",
            "\n",
            "**How to find more information about him:**\n",
            "\n",
            "*   **Search on LinkedIn:** This is probably the best place to find his professional profile and connect with him.\n",
            "*   **Search for his name on Google:** This will likely turn up articles, interviews, or presentations he has given.\n",
            "*   **Check the Thoughtworks website:** Look for his profile on their website, which might have more details about his expertise and contributions to the company.\n",
            "*   **Search for reviews or discussions about his book:** This will give you an idea of the content and reception of \"Exploring the Metaverse.\"\n",
            "*   **Search for podcasts or interviews he may have done.**\n",
            "\n",
            "By searching using his name \"Kuldeep Singh\" and keywords like \"Thoughtworks,\" \"Metaverse,\" and \"Exploring the Metaverse,\" you should be able to find a wealth of information about him and his work. Good luck!\n",
            "\n",
            "You: book is \"Exploring the Metaverse : Redefining the Reality in Digital Age\n",
            "thinkuldeep: Thanks for the clarification! Knowing the full title of the book, **\"Exploring the Metaverse : Redefining the Reality in Digital Age,\"** will significantly help in finding more specific information about Kuldeep Singh and his work.\n",
            "\n",
            "Here's what you can do with the complete title:\n",
            "\n",
            "1.  **Amazon and other online book retailers:** Search for the book on Amazon, Barnes & Noble, Google Books, or other online retailers. This will provide you with:\n",
            "    *   **Book Description:** A detailed summary of the book's contents.\n",
            "    *   **Author Bio:** A short biography of Kuldeep Singh, potentially providing insights into his background and expertise.\n",
            "    *   **Reviews:** See what other readers think of the book. This can give you an idea of his perspectives on the metaverse.\n",
            "\n",
            "2.  **Publisher's Website:** Check the website of the book's publisher. They often have author interviews, articles, or excerpts related to the book.\n",
            "\n",
            "3.  **Google Search with the Title:** Perform a Google search using the exact title of the book. This might reveal:\n",
            "    *   **Interviews:** Look for interviews or articles where Kuldeep discusses his book and his views on the metaverse.\n",
            "    *   **Book Reviews:** Find professional or independent reviews of the book.\n",
            "    *   **Presentations/Webinars:** He may have given presentations or webinars based on the book's content.\n",
            "\n",
            "4.  **Social Media Search:** Search for the book title on social media platforms (Twitter, LinkedIn, etc.). This could lead you to discussions about the book, or posts by Kuldeep himself.\n",
            "\n",
            "By using the full title, you can be more confident that you are finding information specifically related to his metaverse expertise and the specific arguments presented in his book. Good luck with your research!\n",
            "\n",
            "You: quit\n",
            "thinkuldeep: Goodbye!\n"
          ]
        }
      ],
      "source": [
        "from google import genai\n",
        "from google.colab import userdata\n",
        "\n",
        "client = genai.Client(api_key=userdata.get('GOOGLE_API_KEY'))\n",
        "chat = client.chats.create(model=\"gemini-2.0-flash\")\n",
        "\n",
        "def run_chatbot():\n",
        "    print(\"Hello! I am thinkuldeep, how can I help you! Type 'quit' to exit.\")\n",
        "    chat_history = []\n",
        "\n",
        "    while True:\n",
        "        user_input = input(\"You: \")\n",
        "        if user_input.lower() == 'quit':\n",
        "            print(\"thinkuldeep: Goodbye!\")\n",
        "            break\n",
        "\n",
        "        response = chat.send_message(user_input)\n",
        "        print(f\"thinkuldeep: {response.text}\")\n",
        "\n",
        "# Start the chatbot\n",
        "run_chatbot()"
      ]
    }
  ]
}