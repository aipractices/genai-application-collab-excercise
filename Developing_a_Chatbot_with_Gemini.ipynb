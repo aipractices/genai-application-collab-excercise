{
  "nbformat": 4,
  "nbformat_minor": 0,
  "metadata": {
    "colab": {
      "provenance": [],
      "authorship_tag": "ABX9TyP0+pUHQ4Weoi90w3aZLZwL",
      "include_colab_link": true
    },
    "kernelspec": {
      "name": "python3",
      "display_name": "Python 3"
    },
    "language_info": {
      "name": "python"
    }
  },
  "cells": [
    {
      "cell_type": "markdown",
      "metadata": {
        "id": "view-in-github",
        "colab_type": "text"
      },
      "source": [
        "<a href=\"https://colab.research.google.com/github/aipractices/genai-application-collab-excercise/blob/main/Developing_a_Chatbot_with_Gemini.ipynb\" target=\"_parent\"><img src=\"https://colab.research.google.com/assets/colab-badge.svg\" alt=\"Open In Colab\"/></a>"
      ]
    },
    {
      "cell_type": "markdown",
      "source": [
        "Here's how to get started:\n",
        "- Sign up for [Google Cloud](https://console.cloud.google.com/) (if you haven't already). Enable the Gemini API\n",
        "- Head over to [Google AI Studio](https://aistudio.google.com/apikey) and create API key for your project."
      ],
      "metadata": {
        "id": "ziecW3Dk6nuH"
      }
    },
    {
      "cell_type": "code",
      "execution_count": 1,
      "metadata": {
        "colab": {
          "base_uri": "https://localhost:8080/",
          "height": 1000
        },
        "id": "HU6_d1Lg6WAp",
        "outputId": "98a7e753-c18f-46aa-8066-a2684915ae33"
      },
      "outputs": [
        {
          "output_type": "stream",
          "name": "stdout",
          "text": [
            "Hello! I am thinkuldeep, how can I help you! Type 'quit' to exit.\n",
            "You: tell me about kuldeep\n",
            "thinkuldeep: Okay, to give you a good overview of \"Kuldeep,\" I need to know what you're looking for. \"Kuldeep\" is a relatively common name, particularly in India.  Here are a few possibilities:\n",
            "\n",
            "**1. Kuldeep Yadav (Cricketer):**\n",
            "\n",
            "*   **Likely the most well-known Kuldeep:** He's a professional Indian international cricketer. He's a left-arm unorthodox spin bowler (chinaman).\n",
            "*   **Key aspects:**\n",
            "    *   Known for his variations and ability to deceive batsmen.\n",
            "    *   Has played in all formats of the game (Tests, ODIs, T20Is).\n",
            "    *   Has achieved significant success in international cricket, including hat-tricks in both ODIs and the Under-19 Cricket World Cup.\n",
            "    *   Plays in the IPL (Indian Premier League).\n",
            "*   **If you're interested in cricket, I can provide more details on his career stats, achievements, playing style, recent performances, etc.**\n",
            "\n",
            "**2. Other Individuals Named Kuldeep:**\n",
            "\n",
            "*   There are many other people named Kuldeep in various fields. To help me narrow it down, please provide more information, such as:\n",
            "    *   **Location:** Where is the Kuldeep you're interested in from?\n",
            "    *   **Profession/Field:** What does he do? (e.g., doctor, engineer, artist, student, etc.)\n",
            "    *   **Any other identifying details:** Any other information that would help me distinguish him from other Kuldeeps.\n",
            "\n",
            "**In Summary:**\n",
            "\n",
            "Please tell me more about the Kuldeep you're interested in, and I'll do my best to provide you with relevant information. If you are intrested in Kuldeep Yadav, let me know, I will provide you further details.\n",
            "\n",
            "You: kuldeep works at thoughtworks and author of exploring the metaverse\n",
            "thinkuldeep: Okay, that significantly narrows it down! You're referring to **Kuldeep Singh**, author of \"Exploring the Metaverse: A Comprehensive Guide.\"\n",
            "\n",
            "Here's what I can tell you about him:\n",
            "\n",
            "*   **Author:** Kuldeep Singh is the author of \"Exploring the Metaverse: A Comprehensive Guide\". This book is designed to give readers a clear understanding of the metaverse. It covers the key technologies, potential applications, and the impact it will have on various industries.\n",
            "\n",
            "*   **Thoughtworks:** Kuldeep Singh works at Thoughtworks, a global technology consultancy. He's likely involved in projects related to emerging technologies, digital transformation, and potentially metaverse-related initiatives, given his expertise. His role at Thoughtworks could be a consultant, developer, architect, or in a leadership position.\n",
            "\n",
            "*   **Expertise:** Given his book and work at Thoughtworks, it's safe to say that Kuldeep Singh possesses significant knowledge and expertise in the following areas:\n",
            "    *   **Metaverse:** Understanding the underlying technologies, platforms, and trends shaping the metaverse.\n",
            "    *   **Web3:** Including blockchain, NFTs, DAOs, and decentralized applications.\n",
            "    *   **Emerging Technologies:** He likely stays up-to-date on the latest advancements in virtual reality (VR), augmented reality (AR), artificial intelligence (AI), and other relevant fields.\n",
            "    *   **Digital Transformation:** Helping organizations understand and adopt new technologies to improve their business processes and customer experiences.\n",
            "\n",
            "*   **Possible Areas of Focus at Thoughtworks:**\n",
            "    *   **Metaverse Strategy and Consulting:** Helping clients develop strategies for entering or leveraging the metaverse.\n",
            "    *   **Metaverse Development:** Building applications, experiences, and platforms within the metaverse.\n",
            "    *   **Thought Leadership:** Contributing to Thoughtworks' research and publications on emerging technologies.\n",
            "\n",
            "**How to find more information:**\n",
            "\n",
            "*   **LinkedIn:** Search for \"Kuldeep Singh\" and \"Thoughtworks\" on LinkedIn. You should be able to find his profile and learn more about his role, experience, and connections.\n",
            "*   **Thoughtworks Website:** Explore the Thoughtworks website for articles, blog posts, or case studies that he may have contributed to. Look for content related to the metaverse, Web3, or emerging technologies.\n",
            "*   **Book Reviews/Interviews:** Search for online reviews or interviews related to his book, \"Exploring the Metaverse.\" These may provide further insights into his background and perspectives.\n",
            "\n",
            "By combining these search strategies, you should be able to find more specific information about Kuldeep Singh's professional background and expertise.\n"
          ]
        },
        {
          "output_type": "error",
          "ename": "KeyboardInterrupt",
          "evalue": "Interrupted by user",
          "traceback": [
            "\u001b[0;31m---------------------------------------------------------------------------\u001b[0m",
            "\u001b[0;31mKeyboardInterrupt\u001b[0m                         Traceback (most recent call last)",
            "\u001b[0;32m<ipython-input-1-33891b70aded>\u001b[0m in \u001b[0;36m<cell line: 0>\u001b[0;34m()\u001b[0m\n\u001b[1;32m     19\u001b[0m \u001b[0;34m\u001b[0m\u001b[0m\n\u001b[1;32m     20\u001b[0m \u001b[0;31m# Start the chatbot\u001b[0m\u001b[0;34m\u001b[0m\u001b[0;34m\u001b[0m\u001b[0m\n\u001b[0;32m---> 21\u001b[0;31m \u001b[0mrun_chatbot\u001b[0m\u001b[0;34m(\u001b[0m\u001b[0;34m)\u001b[0m\u001b[0;34m\u001b[0m\u001b[0;34m\u001b[0m\u001b[0m\n\u001b[0m",
            "\u001b[0;32m<ipython-input-1-33891b70aded>\u001b[0m in \u001b[0;36mrun_chatbot\u001b[0;34m()\u001b[0m\n\u001b[1;32m     10\u001b[0m \u001b[0;34m\u001b[0m\u001b[0m\n\u001b[1;32m     11\u001b[0m     \u001b[0;32mwhile\u001b[0m \u001b[0;32mTrue\u001b[0m\u001b[0;34m:\u001b[0m\u001b[0;34m\u001b[0m\u001b[0;34m\u001b[0m\u001b[0m\n\u001b[0;32m---> 12\u001b[0;31m         \u001b[0muser_input\u001b[0m \u001b[0;34m=\u001b[0m \u001b[0minput\u001b[0m\u001b[0;34m(\u001b[0m\u001b[0;34m\"You: \"\u001b[0m\u001b[0;34m)\u001b[0m\u001b[0;34m\u001b[0m\u001b[0;34m\u001b[0m\u001b[0m\n\u001b[0m\u001b[1;32m     13\u001b[0m         \u001b[0;32mif\u001b[0m \u001b[0muser_input\u001b[0m\u001b[0;34m.\u001b[0m\u001b[0mlower\u001b[0m\u001b[0;34m(\u001b[0m\u001b[0;34m)\u001b[0m \u001b[0;34m==\u001b[0m \u001b[0;34m'quit'\u001b[0m\u001b[0;34m:\u001b[0m\u001b[0;34m\u001b[0m\u001b[0;34m\u001b[0m\u001b[0m\n\u001b[1;32m     14\u001b[0m             \u001b[0mprint\u001b[0m\u001b[0;34m(\u001b[0m\u001b[0;34m\"thinkuldeep: Goodbye!\"\u001b[0m\u001b[0;34m)\u001b[0m\u001b[0;34m\u001b[0m\u001b[0;34m\u001b[0m\u001b[0m\n",
            "\u001b[0;32m/usr/local/lib/python3.11/dist-packages/ipykernel/kernelbase.py\u001b[0m in \u001b[0;36mraw_input\u001b[0;34m(self, prompt)\u001b[0m\n\u001b[1;32m   1175\u001b[0m                 \u001b[0;34m\"raw_input was called, but this frontend does not support input requests.\"\u001b[0m\u001b[0;34m\u001b[0m\u001b[0;34m\u001b[0m\u001b[0m\n\u001b[1;32m   1176\u001b[0m             )\n\u001b[0;32m-> 1177\u001b[0;31m         return self._input_request(\n\u001b[0m\u001b[1;32m   1178\u001b[0m             \u001b[0mstr\u001b[0m\u001b[0;34m(\u001b[0m\u001b[0mprompt\u001b[0m\u001b[0;34m)\u001b[0m\u001b[0;34m,\u001b[0m\u001b[0;34m\u001b[0m\u001b[0;34m\u001b[0m\u001b[0m\n\u001b[1;32m   1179\u001b[0m             \u001b[0mself\u001b[0m\u001b[0;34m.\u001b[0m\u001b[0m_parent_ident\u001b[0m\u001b[0;34m[\u001b[0m\u001b[0;34m\"shell\"\u001b[0m\u001b[0;34m]\u001b[0m\u001b[0;34m,\u001b[0m\u001b[0;34m\u001b[0m\u001b[0;34m\u001b[0m\u001b[0m\n",
            "\u001b[0;32m/usr/local/lib/python3.11/dist-packages/ipykernel/kernelbase.py\u001b[0m in \u001b[0;36m_input_request\u001b[0;34m(self, prompt, ident, parent, password)\u001b[0m\n\u001b[1;32m   1217\u001b[0m             \u001b[0;32mexcept\u001b[0m \u001b[0mKeyboardInterrupt\u001b[0m\u001b[0;34m:\u001b[0m\u001b[0;34m\u001b[0m\u001b[0;34m\u001b[0m\u001b[0m\n\u001b[1;32m   1218\u001b[0m                 \u001b[0;31m# re-raise KeyboardInterrupt, to truncate traceback\u001b[0m\u001b[0;34m\u001b[0m\u001b[0;34m\u001b[0m\u001b[0m\n\u001b[0;32m-> 1219\u001b[0;31m                 \u001b[0;32mraise\u001b[0m \u001b[0mKeyboardInterrupt\u001b[0m\u001b[0;34m(\u001b[0m\u001b[0;34m\"Interrupted by user\"\u001b[0m\u001b[0;34m)\u001b[0m \u001b[0;32mfrom\u001b[0m \u001b[0;32mNone\u001b[0m\u001b[0;34m\u001b[0m\u001b[0;34m\u001b[0m\u001b[0m\n\u001b[0m\u001b[1;32m   1220\u001b[0m             \u001b[0;32mexcept\u001b[0m \u001b[0mException\u001b[0m\u001b[0;34m:\u001b[0m\u001b[0;34m\u001b[0m\u001b[0;34m\u001b[0m\u001b[0m\n\u001b[1;32m   1221\u001b[0m                 \u001b[0mself\u001b[0m\u001b[0;34m.\u001b[0m\u001b[0mlog\u001b[0m\u001b[0;34m.\u001b[0m\u001b[0mwarning\u001b[0m\u001b[0;34m(\u001b[0m\u001b[0;34m\"Invalid Message:\"\u001b[0m\u001b[0;34m,\u001b[0m \u001b[0mexc_info\u001b[0m\u001b[0;34m=\u001b[0m\u001b[0;32mTrue\u001b[0m\u001b[0;34m)\u001b[0m\u001b[0;34m\u001b[0m\u001b[0;34m\u001b[0m\u001b[0m\n",
            "\u001b[0;31mKeyboardInterrupt\u001b[0m: Interrupted by user"
          ]
        }
      ],
      "source": [
        "from google import genai\n",
        "from google.colab import userdata\n",
        "\n",
        "client = genai.Client(api_key=userdata.get('GOOGLE_API_KEY'))\n",
        "chat = client.chats.create(model=\"gemini-2.0-flash\")\n",
        "\n",
        "def run_chatbot():\n",
        "    print(\"Hello! I am thinkuldeep, how can I help you! Type 'quit' to exit.\")\n",
        "    chat_history = []\n",
        "\n",
        "    while True:\n",
        "        user_input = input(\"You: \")\n",
        "        if user_input.lower() == 'quit':\n",
        "            print(\"thinkuldeep: Goodbye!\")\n",
        "            break\n",
        "\n",
        "        response = chat.send_message(user_input)\n",
        "        print(f\"thinkuldeep: {response.text}\")\n",
        "\n",
        "# Start the chatbot\n",
        "run_chatbot()"
      ]
    }
  ]
}