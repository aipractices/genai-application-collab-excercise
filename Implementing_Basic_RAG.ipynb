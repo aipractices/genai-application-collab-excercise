{
  "nbformat": 4,
  "nbformat_minor": 0,
  "metadata": {
    "colab": {
      "provenance": [],
      "toc_visible": true,
      "authorship_tag": "ABX9TyNXtf4mH0pqCF324gH3EoSQ",
      "include_colab_link": true
    },
    "kernelspec": {
      "name": "python3",
      "display_name": "Python 3"
    },
    "language_info": {
      "name": "python"
    }
  },
  "cells": [
    {
      "cell_type": "markdown",
      "metadata": {
        "id": "view-in-github",
        "colab_type": "text"
      },
      "source": [
        "<a href=\"https://colab.research.google.com/github/aipractices/genai-application-collab-excercise/blob/main/Implementing_Basic_RAG.ipynb\" target=\"_parent\"><img src=\"https://colab.research.google.com/assets/colab-badge.svg\" alt=\"Open In Colab\"/></a>"
      ]
    },
    {
      "cell_type": "markdown",
      "source": [
        "#Getting Started\n",
        "\n",
        "Here's how to get started:\n",
        "- Sign up for [Google Cloud](https://console.cloud.google.com/) (if you haven't already). Enable the Gemini API\n",
        "- Head over to [Google AI Studio](https://aistudio.google.com/apikey) and create API key for your project."
      ],
      "metadata": {
        "id": "zswhIMJGFjBA"
      }
    },
    {
      "cell_type": "code",
      "source": [
        "!pip install requests\n",
        "!pip install beautifulsoup4\n",
        "\n",
        "import requests\n",
        "from google import genai\n",
        "from google.colab import userdata\n",
        "\n",
        "from bs4 import BeautifulSoup\n",
        "\n",
        "\n",
        "def retrive(url):\n",
        "  try:\n",
        "    response = requests.get(url)\n",
        "    soup = BeautifulSoup(response.content, \"html.parser\")\n",
        "    text_content = \"\"\n",
        "    for paragraph in soup.find_all(\"p\"):\n",
        "        text_content += paragraph.get_text(strip=True) + \"\\n\"\n",
        "\n",
        "    return text_content\n",
        "  except requests.exceptions.RequestException as e:\n",
        "    return f\"Error fetching URL: {e}\"\n",
        "  except Exception as e:\n",
        "    return f\"An error occurred: {e}\"\n",
        "\n",
        "def augment(prompt, context):\n",
        "  return f\"{prompt} where context is {context}\"\n",
        "\n",
        "def generation(prompt):\n",
        "\n",
        "  client = genai.Client(api_key=userdata.get('GOOGLE_API_KEY'))\n",
        "\n",
        "  response = client.models.generate_content(\n",
        "      model=\"gemini-2.0-flash\",\n",
        "      contents=[prompt]\n",
        "  )\n",
        "  return response.text\n",
        "\n",
        "prompt = \"Tell me about Kuldeep\"\n",
        "\n",
        "context = retrive(\"https://thinkuldeep.com/about/\")\n",
        "\n",
        "print(generation(augment(prompt, context)))"
      ],
      "metadata": {
        "id": "fO0xUSIpHuPA"
      },
      "execution_count": null,
      "outputs": []
    },
    {
      "cell_type": "markdown",
      "source": [
        "#Chatbot\n",
        "\n",
        "Let's implement it in chatbot, and we can have good coverstations about..."
      ],
      "metadata": {
        "id": "gpdy8r3GHzqt"
      }
    },
    {
      "cell_type": "code",
      "execution_count": 2,
      "metadata": {
        "colab": {
          "base_uri": "https://localhost:8080/"
        },
        "id": "K17GFVuBFdI3",
        "outputId": "c88c0635-8338-4c87-cc3e-e63f4e47d96e"
      },
      "outputs": [
        {
          "output_type": "stream",
          "name": "stdout",
          "text": [
            "Requirement already satisfied: requests in /usr/local/lib/python3.11/dist-packages (2.32.3)\n",
            "Requirement already satisfied: charset-normalizer<4,>=2 in /usr/local/lib/python3.11/dist-packages (from requests) (3.4.2)\n",
            "Requirement already satisfied: idna<4,>=2.5 in /usr/local/lib/python3.11/dist-packages (from requests) (3.10)\n",
            "Requirement already satisfied: urllib3<3,>=1.21.1 in /usr/local/lib/python3.11/dist-packages (from requests) (2.4.0)\n",
            "Requirement already satisfied: certifi>=2017.4.17 in /usr/local/lib/python3.11/dist-packages (from requests) (2025.4.26)\n",
            "Requirement already satisfied: beautifulsoup4 in /usr/local/lib/python3.11/dist-packages (4.13.4)\n",
            "Requirement already satisfied: soupsieve>1.2 in /usr/local/lib/python3.11/dist-packages (from beautifulsoup4) (2.7)\n",
            "Requirement already satisfied: typing-extensions>=4.0.0 in /usr/local/lib/python3.11/dist-packages (from beautifulsoup4) (4.13.2)\n",
            "Hello! ask me about Kuldeep Singh! Type 'quit' to exit.\n",
            "You: how to contact kuldeep\n",
            "thinkuldeep: Based on the provided context, here's how you can contact Kuldeep:\n",
            "\n",
            "*   **Personal Email:** thinkuldeep@gmail.com\n",
            "*   **Official Email:** kuldeeps@thoughtworks.com\n",
            "*   **LinkedIn:** kuldeep-reck\n",
            "*   **X.com (Twitter):** thinkuldeep\n",
            "*   **Instagram:** thinkuldeep\n",
            "*   **Facebook:** kuldeep.reck\n",
            " \n",
            "\n",
            "\n",
            "You: what is his kids name\n",
            "thinkuldeep: Kuldeep's kids' names are Lakshya and Lovyansh.\n",
            " \n",
            "\n",
            "\n",
            "You: where does he work\n",
            "thinkuldeep: Based on the provided information, Kuldeep currently works at **Thoughtworks** as a **Global Emerging Technology Leader and Principal Consultant**. He previously worked at **Nagarro** for 13 years.\n",
            " \n",
            "\n",
            "\n",
            "You: what is kuldeep life mantra\n",
            "thinkuldeep: Kuldeep has several life mantras, according to the provided context:\n",
            "\n",
            "*   \"When you have confusion on how to start, then don't wait, just start.\"\n",
            "*   \"Leadership is a feeling, learn to lead ownself, and be your own leader.\"\n",
            "*   \"You can do much more than what you think.\"\n",
            "*   \"Winning an argument is not really a Winning.\"\n",
            "*   \"We explore more of us by giving it away to others.\"\n",
            " \n",
            "\n",
            "\n",
            "You: quit\n",
            "thinkuldeep: Goodbye!\n"
          ]
        }
      ],
      "source": [
        "!pip install requests\n",
        "!pip install beautifulsoup4\n",
        "\n",
        "import requests\n",
        "from google import genai\n",
        "from google.colab import userdata\n",
        "from bs4 import BeautifulSoup\n",
        "\n",
        "client = genai.Client(api_key=userdata.get('GOOGLE_API_KEY'))\n",
        "chat = client.chats.create(model=\"gemini-2.0-flash\")\n",
        "\n",
        "def retrive(url):\n",
        "  try:\n",
        "    response = requests.get(url)\n",
        "    soup = BeautifulSoup(response.content, \"html.parser\")\n",
        "    text_content = \"\"\n",
        "    for paragraph in soup.find_all(\"p\"):\n",
        "        text_content += paragraph.get_text(strip=True) + \"\\n\"\n",
        "    for h3 in soup.find_all(\"h2\"):\n",
        "        text_content += h3.get_text(strip=True) + \"\\n\"\n",
        "\n",
        "    return text_content\n",
        "  except Exception as e:\n",
        "    return f\"An error occurred: {e}\"\n",
        "\n",
        "def augment(prompt, context):\n",
        "  return f\"Context for all future communication {context}\"\n",
        "\n",
        "context = retrive(\"https://thinkuldeep.com/about/\")\n",
        "\n",
        "def run_chatbot():\n",
        "    print(\"Hello! ask me about Kuldeep Singh! Type 'quit' to exit.\")\n",
        "    chat_history = []\n",
        "    #initial context\n",
        "    chat.send_message(augment(\"\", context))\n",
        "\n",
        "    while True:\n",
        "        user_input = input(\"You: \")\n",
        "        if user_input.lower() == 'quit':\n",
        "            print(\"thinkuldeep: Goodbye!\")\n",
        "            break\n",
        "\n",
        "        response = chat.send_message(user_input)\n",
        "        print(f\"thinkuldeep: {response.text} \\n\\n\")\n",
        "\n",
        "# Start the chatbot\n",
        "run_chatbot()"
      ]
    }
  ]
}