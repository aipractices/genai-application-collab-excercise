{
  "nbformat": 4,
  "nbformat_minor": 0,
  "metadata": {
    "colab": {
      "provenance": [],
      "authorship_tag": "ABX9TyMnG+F/FXvh263O99ewE/Rh",
      "include_colab_link": true
    },
    "kernelspec": {
      "name": "python3",
      "display_name": "Python 3"
    },
    "language_info": {
      "name": "python"
    }
  },
  "cells": [
    {
      "cell_type": "markdown",
      "metadata": {
        "id": "view-in-github",
        "colab_type": "text"
      },
      "source": [
        "<a href=\"https://colab.research.google.com/github/aipractices/genai-application-collab-excercise/blob/main/Developing_First_Gen_AI_Application.ipynb\" target=\"_parent\"><img src=\"https://colab.research.google.com/assets/colab-badge.svg\" alt=\"Open In Colab\"/></a>"
      ]
    },
    {
      "cell_type": "markdown",
      "source": [
        "# First GenAI application with Gemini Model"
      ],
      "metadata": {
        "id": "0HQawK-ts0wB"
      }
    },
    {
      "cell_type": "markdown",
      "source": [
        "Here's how to get started:\n",
        "- Sign up for [Google Cloud](https://console.cloud.google.com/) (if you haven't already). Enable the Gemini API\n",
        "- Head over to [Google AI Studio](https://aistudio.google.com/apikey) and create API key for your project."
      ],
      "metadata": {
        "id": "Pi04xGMtvGH0"
      }
    },
    {
      "cell_type": "code",
      "execution_count": null,
      "metadata": {
        "id": "Eegwx3mGsNv-"
      },
      "outputs": [],
      "source": [
        "from google import genai\n",
        "from google.colab import userdata\n",
        "\n",
        "def query_gemini(prompt):\n",
        "  client = genai.Client(api_key=userdata.get('GOOGLE_API_KEY'))\n",
        "\n",
        "  response = client.models.generate_content(\n",
        "      model=\"gemini-2.0-flash\",\n",
        "      contents=[prompt]\n",
        "  )\n",
        "  return response.text\n",
        "\n",
        "prompt = \"Tell me about Kuldeep\"\n",
        "\n",
        "print(query_gemini(prompt))"
      ]
    },
    {
      "cell_type": "markdown",
      "source": [
        "# First GenAI application with Hugging Face Model"
      ],
      "metadata": {
        "id": "qa5ClkIqtKWr"
      }
    },
    {
      "cell_type": "markdown",
      "source": [
        "First sign up of Hugging Face if not already done and then create [hugging face API token](https://huggingface.co/settings/tokens) to access the model."
      ],
      "metadata": {
        "id": "RxGfSV8AxMOC"
      }
    },
    {
      "cell_type": "code",
      "source": [
        "# prompt: Create a simple python code to access GPT-2 in hugging face using hugging face token\n",
        "\n",
        "!pip install transformers\n",
        "\n",
        "from transformers import pipeline\n",
        "# Load the GPT-2 model\n",
        "generator = pipeline('text-generation', model='gpt2', token=userdata.get('HUGGING_FACE_HUB_TOKEN'))\n",
        "\n",
        "# Example prompt for GPT-2\n",
        "prompt = \"Tell me about Kuldeep\"\n",
        "\n",
        "# Generate text\n",
        "output = generator(prompt, max_length=50, num_return_sequences=1)\n",
        "\n",
        "# Print the generated text\n",
        "print(output[0]['generated_text'])"
      ],
      "metadata": {
        "id": "0EIUJY62tb9b"
      },
      "execution_count": null,
      "outputs": []
    }
  ]
}